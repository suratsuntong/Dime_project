{
 "cells": [
  {
   "cell_type": "code",
   "execution_count": null,
   "id": "22945ac5-1961-43a4-a132-c83ef9f79ee9",
   "metadata": {},
   "outputs": [],
   "source": [
    "class _configuration:\n",
    "    API_KEY = \"\"\n",
    "    DB_CONNECTION_STR = \"\""
   ]
  },
  {
   "cell_type": "code",
   "execution_count": null,
   "id": "60346323-dfd3-478d-b14b-a8767b72ca2b",
   "metadata": {},
   "outputs": [],
   "source": [
    "CONF = _configuration()"
   ]
  },
  {
   "cell_type": "code",
   "execution_count": null,
   "id": "fc70cafb-8d3d-4ce8-b527-228307d37f52",
   "metadata": {},
   "outputs": [],
   "source": [
    "table_mapping = {\n",
    "    'stg.tmp_dim_delisted_companies': {\n",
    "        'symbol': 'symbol',\n",
    "        'companyName': 'company_name',\n",
    "        'exchange': 'exchange',\n",
    "        'ipoDate': 'ipodate',\n",
    "        'delistedDate': 'delisted_date',\n",
    "    },\n",
    "    'stg.tmp_fct_stock_dividend': {\n",
    "        'company_id': 'company_id',\n",
    "        'date': 'create_date',\n",
    "        'label': 'label_date',\n",
    "        'adjDividend': 'adj_dividend',\n",
    "        'dividend': 'dividend',\n",
    "        'recordDate': 'record_date',\n",
    "        'paymentDate': 'payment_date',\n",
    "        'declarationDate': 'declaration_date',\n",
    "    }\n",
    "}"
   ]
  }
 ],
 "metadata": {
  "kernelspec": {
   "display_name": "Python 3 (ipykernel)",
   "language": "python",
   "name": "python3"
  },
  "language_info": {
   "codemirror_mode": {
    "name": "ipython",
    "version": 3
   },
   "file_extension": ".py",
   "mimetype": "text/x-python",
   "name": "python",
   "nbconvert_exporter": "python",
   "pygments_lexer": "ipython3",
   "version": "3.9.12"
  }
 },
 "nbformat": 4,
 "nbformat_minor": 5
}
